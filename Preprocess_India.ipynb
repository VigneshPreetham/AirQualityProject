{
 "cells": [
  {
   "cell_type": "code",
   "execution_count": 1,
   "metadata": {},
   "outputs": [],
   "source": [
    "import pandas as pd\n",
    "import json\n",
    "import requests"
   ]
  },
  {
   "cell_type": "code",
   "execution_count": 2,
   "metadata": {
    "scrolled": true
   },
   "outputs": [
    {
     "data": {
      "text/html": [
       "<div>\n",
       "<style scoped>\n",
       "    .dataframe tbody tr th:only-of-type {\n",
       "        vertical-align: middle;\n",
       "    }\n",
       "\n",
       "    .dataframe tbody tr th {\n",
       "        vertical-align: top;\n",
       "    }\n",
       "\n",
       "    .dataframe thead th {\n",
       "        text-align: right;\n",
       "    }\n",
       "</style>\n",
       "<table border=\"1\" class=\"dataframe\">\n",
       "  <thead>\n",
       "    <tr style=\"text-align: right;\">\n",
       "      <th></th>\n",
       "      <th>Unnamed: 0</th>\n",
       "      <th>Country</th>\n",
       "      <th>City</th>\n",
       "      <th>Location</th>\n",
       "      <th>Longitude</th>\n",
       "      <th>Latitude</th>\n",
       "    </tr>\n",
       "  </thead>\n",
       "  <tbody>\n",
       "    <tr>\n",
       "      <th>0</th>\n",
       "      <td>0</td>\n",
       "      <td>IN</td>\n",
       "      <td>Agartala</td>\n",
       "      <td>Kunjaban, Agartala - Tripura SPCB</td>\n",
       "      <td>91.288736</td>\n",
       "      <td>23.862828</td>\n",
       "    </tr>\n",
       "    <tr>\n",
       "      <th>1</th>\n",
       "      <td>1</td>\n",
       "      <td>IN</td>\n",
       "      <td>Agra</td>\n",
       "      <td>Sector-3B Avas Vikas Colony, Agra - UPPCB</td>\n",
       "      <td>77.962370</td>\n",
       "      <td>27.194120</td>\n",
       "    </tr>\n",
       "    <tr>\n",
       "      <th>2</th>\n",
       "      <td>2</td>\n",
       "      <td>IN</td>\n",
       "      <td>Agra</td>\n",
       "      <td>Manoharpur, Agra - UPPCB</td>\n",
       "      <td>78.019360</td>\n",
       "      <td>27.237110</td>\n",
       "    </tr>\n",
       "    <tr>\n",
       "      <th>3</th>\n",
       "      <td>3</td>\n",
       "      <td>IN</td>\n",
       "      <td>Agra</td>\n",
       "      <td>Sanjay Palace, Agra - UPPCB</td>\n",
       "      <td>78.005981</td>\n",
       "      <td>27.198658</td>\n",
       "    </tr>\n",
       "    <tr>\n",
       "      <th>4</th>\n",
       "      <td>4</td>\n",
       "      <td>IN</td>\n",
       "      <td>Ahmedabad</td>\n",
       "      <td>Rakhial, Ahmedabad - IITM</td>\n",
       "      <td>72.625775</td>\n",
       "      <td>23.016834</td>\n",
       "    </tr>\n",
       "  </tbody>\n",
       "</table>\n",
       "</div>"
      ],
      "text/plain": [
       "   Unnamed: 0 Country       City                                   Location  \\\n",
       "0           0      IN   Agartala          Kunjaban, Agartala - Tripura SPCB   \n",
       "1           1      IN       Agra  Sector-3B Avas Vikas Colony, Agra - UPPCB   \n",
       "2           2      IN       Agra                   Manoharpur, Agra - UPPCB   \n",
       "3           3      IN       Agra                Sanjay Palace, Agra - UPPCB   \n",
       "4           4      IN  Ahmedabad                  Rakhial, Ahmedabad - IITM   \n",
       "\n",
       "   Longitude   Latitude  \n",
       "0  91.288736  23.862828  \n",
       "1  77.962370  27.194120  \n",
       "2  78.019360  27.237110  \n",
       "3  78.005981  27.198658  \n",
       "4  72.625775  23.016834  "
      ]
     },
     "execution_count": 2,
     "metadata": {},
     "output_type": "execute_result"
    }
   ],
   "source": [
    "locations = pd.read_csv('/Users/preethamvignesh/Desktop/OpenAq_Data/Cities_locations/India_cities_locations copy.csv')\n",
    "locations.head()"
   ]
  },
  {
   "cell_type": "code",
   "execution_count": 3,
   "metadata": {
    "scrolled": true
   },
   "outputs": [
    {
     "name": "stdout",
     "output_type": "stream",
     "text": [
      "<class 'pandas.core.frame.DataFrame'>\n",
      "RangeIndex: 426 entries, 0 to 425\n",
      "Data columns (total 6 columns):\n",
      " #   Column      Non-Null Count  Dtype  \n",
      "---  ------      --------------  -----  \n",
      " 0   Unnamed: 0  426 non-null    int64  \n",
      " 1   Country     426 non-null    object \n",
      " 2   City        426 non-null    object \n",
      " 3   Location    426 non-null    object \n",
      " 4   Longitude   426 non-null    float64\n",
      " 5   Latitude    426 non-null    float64\n",
      "dtypes: float64(2), int64(1), object(3)\n",
      "memory usage: 20.1+ KB\n"
     ]
    }
   ],
   "source": [
    "locations.info()"
   ]
  },
  {
   "cell_type": "code",
   "execution_count": 4,
   "metadata": {},
   "outputs": [
    {
     "data": {
      "text/plain": [
       "0              Kunjaban, Agartala - Tripura SPCB\n",
       "1      Sector-3B Avas Vikas Colony, Agra - UPPCB\n",
       "2                       Manoharpur, Agra - UPPCB\n",
       "3                    Sanjay Palace, Agra - UPPCB\n",
       "4                      Rakhial, Ahmedabad - IITM\n",
       "                         ...                    \n",
       "421                               GVMC Ram Nagar\n",
       "422                              GVM Corporation\n",
       "423                                Visakhapatnam\n",
       "424             Collector Office, Yadgir - KSPCB\n",
       "425            Gobind Pura, Yamuna Nagar - HSPCB\n",
       "Name: Location, Length: 426, dtype: object"
      ]
     },
     "execution_count": 4,
     "metadata": {},
     "output_type": "execute_result"
    }
   ],
   "source": [
    "locations.Location.apply(str)"
   ]
  },
  {
   "cell_type": "code",
   "execution_count": 5,
   "metadata": {},
   "outputs": [
    {
     "name": "stdout",
     "output_type": "stream",
     "text": [
      "<class 'pandas.core.frame.DataFrame'>\n",
      "RangeIndex: 426 entries, 0 to 425\n",
      "Data columns (total 6 columns):\n",
      " #   Column      Non-Null Count  Dtype  \n",
      "---  ------      --------------  -----  \n",
      " 0   Unnamed: 0  426 non-null    int64  \n",
      " 1   Country     426 non-null    object \n",
      " 2   City        426 non-null    object \n",
      " 3   Location    426 non-null    object \n",
      " 4   Longitude   426 non-null    float64\n",
      " 5   Latitude    426 non-null    float64\n",
      "dtypes: float64(2), int64(1), object(3)\n",
      "memory usage: 20.1+ KB\n"
     ]
    }
   ],
   "source": [
    "locations.info()"
   ]
  },
  {
   "cell_type": "code",
   "execution_count": 6,
   "metadata": {},
   "outputs": [],
   "source": [
    "def takeOutWhitespace(x):\n",
    "    x = ''.join(e for e in x if (e != ' '))\n",
    "    return x"
   ]
  },
  {
   "cell_type": "code",
   "execution_count": 7,
   "metadata": {},
   "outputs": [
    {
     "name": "stdout",
     "output_type": "stream",
     "text": [
      "Manoharpur,Agra-UPPCB\n"
     ]
    }
   ],
   "source": [
    "myString = takeOutWhitespace(locations.Location[2])\n",
    "print(myString)"
   ]
  },
  {
   "cell_type": "code",
   "execution_count": 8,
   "metadata": {},
   "outputs": [],
   "source": [
    "#First take out all the whitespace in locations\n",
    "locations.Location = locations.Location.apply(lambda x: takeOutWhitespace(x))"
   ]
  },
  {
   "cell_type": "code",
   "execution_count": 9,
   "metadata": {},
   "outputs": [
    {
     "name": "stdout",
     "output_type": "stream",
     "text": [
      "343\n"
     ]
    }
   ],
   "source": [
    "#Creating a list of unique locations to remove duplicates\n",
    "locationsList = locations.Location.unique()\n",
    "loc_length = len(locationsList)\n",
    "print(loc_length)"
   ]
  },
  {
   "cell_type": "code",
   "execution_count": 10,
   "metadata": {},
   "outputs": [],
   "source": [
    "# loc_df = locations[(locations['Location'] == locationsList[1])]\n",
    "# loc_df"
   ]
  },
  {
   "cell_type": "code",
   "execution_count": 11,
   "metadata": {},
   "outputs": [],
   "source": [
    "dummy = pd.DataFrame()\n",
    "for num in range(0, loc_length):\n",
    "    loc_df = locations[(locations['Location'] == locationsList[num])]\n",
    "    if loc_df.shape[0] > 1:\n",
    "        #Check whether the longitude and latitude are both 0\n",
    "        loc_df = loc_df.loc[(loc_df['Longitude'] != 0)]\n",
    "    if num == 0:\n",
    "        dummy = loc_df\n",
    "    else:\n",
    "        dummy = dummy.append(loc_df)"
   ]
  },
  {
   "cell_type": "code",
   "execution_count": 12,
   "metadata": {},
   "outputs": [
    {
     "data": {
      "text/html": [
       "<div>\n",
       "<style scoped>\n",
       "    .dataframe tbody tr th:only-of-type {\n",
       "        vertical-align: middle;\n",
       "    }\n",
       "\n",
       "    .dataframe tbody tr th {\n",
       "        vertical-align: top;\n",
       "    }\n",
       "\n",
       "    .dataframe thead th {\n",
       "        text-align: right;\n",
       "    }\n",
       "</style>\n",
       "<table border=\"1\" class=\"dataframe\">\n",
       "  <thead>\n",
       "    <tr style=\"text-align: right;\">\n",
       "      <th></th>\n",
       "      <th>Unnamed: 0</th>\n",
       "      <th>Country</th>\n",
       "      <th>City</th>\n",
       "      <th>Location</th>\n",
       "      <th>Longitude</th>\n",
       "      <th>Latitude</th>\n",
       "    </tr>\n",
       "  </thead>\n",
       "  <tbody>\n",
       "    <tr>\n",
       "      <th>0</th>\n",
       "      <td>0</td>\n",
       "      <td>IN</td>\n",
       "      <td>Agartala</td>\n",
       "      <td>Kunjaban,Agartala-TripuraSPCB</td>\n",
       "      <td>91.288736</td>\n",
       "      <td>23.862828</td>\n",
       "    </tr>\n",
       "    <tr>\n",
       "      <th>1</th>\n",
       "      <td>1</td>\n",
       "      <td>IN</td>\n",
       "      <td>Agra</td>\n",
       "      <td>Sector-3BAvasVikasColony,Agra-UPPCB</td>\n",
       "      <td>77.962370</td>\n",
       "      <td>27.194120</td>\n",
       "    </tr>\n",
       "    <tr>\n",
       "      <th>2</th>\n",
       "      <td>2</td>\n",
       "      <td>IN</td>\n",
       "      <td>Agra</td>\n",
       "      <td>Manoharpur,Agra-UPPCB</td>\n",
       "      <td>78.019360</td>\n",
       "      <td>27.237110</td>\n",
       "    </tr>\n",
       "    <tr>\n",
       "      <th>3</th>\n",
       "      <td>3</td>\n",
       "      <td>IN</td>\n",
       "      <td>Agra</td>\n",
       "      <td>SanjayPalace,Agra-UPPCB</td>\n",
       "      <td>78.005981</td>\n",
       "      <td>27.198658</td>\n",
       "    </tr>\n",
       "    <tr>\n",
       "      <th>4</th>\n",
       "      <td>4</td>\n",
       "      <td>IN</td>\n",
       "      <td>Ahmedabad</td>\n",
       "      <td>Rakhial,Ahmedabad-IITM</td>\n",
       "      <td>72.625775</td>\n",
       "      <td>23.016834</td>\n",
       "    </tr>\n",
       "    <tr>\n",
       "      <th>...</th>\n",
       "      <td>...</td>\n",
       "      <td>...</td>\n",
       "      <td>...</td>\n",
       "      <td>...</td>\n",
       "      <td>...</td>\n",
       "      <td>...</td>\n",
       "    </tr>\n",
       "    <tr>\n",
       "      <th>421</th>\n",
       "      <td>441</td>\n",
       "      <td>IN</td>\n",
       "      <td>Visakhapatnam</td>\n",
       "      <td>GVMCRamNagar</td>\n",
       "      <td>0.000000</td>\n",
       "      <td>0.000000</td>\n",
       "    </tr>\n",
       "    <tr>\n",
       "      <th>422</th>\n",
       "      <td>442</td>\n",
       "      <td>IN</td>\n",
       "      <td>Visakhapatnam</td>\n",
       "      <td>GVMCorporation</td>\n",
       "      <td>0.000000</td>\n",
       "      <td>0.000000</td>\n",
       "    </tr>\n",
       "    <tr>\n",
       "      <th>423</th>\n",
       "      <td>443</td>\n",
       "      <td>IN</td>\n",
       "      <td>Visakhapatnam</td>\n",
       "      <td>Visakhapatnam</td>\n",
       "      <td>0.000000</td>\n",
       "      <td>0.000000</td>\n",
       "    </tr>\n",
       "    <tr>\n",
       "      <th>424</th>\n",
       "      <td>444</td>\n",
       "      <td>IN</td>\n",
       "      <td>Yadgir</td>\n",
       "      <td>CollectorOffice,Yadgir-KSPCB</td>\n",
       "      <td>77.142800</td>\n",
       "      <td>16.760200</td>\n",
       "    </tr>\n",
       "    <tr>\n",
       "      <th>425</th>\n",
       "      <td>445</td>\n",
       "      <td>IN</td>\n",
       "      <td>Yamunanagar</td>\n",
       "      <td>GobindPura,YamunaNagar-HSPCB</td>\n",
       "      <td>77.289347</td>\n",
       "      <td>30.148057</td>\n",
       "    </tr>\n",
       "  </tbody>\n",
       "</table>\n",
       "<p>383 rows × 6 columns</p>\n",
       "</div>"
      ],
      "text/plain": [
       "     Unnamed: 0 Country           City                             Location  \\\n",
       "0             0      IN       Agartala        Kunjaban,Agartala-TripuraSPCB   \n",
       "1             1      IN           Agra  Sector-3BAvasVikasColony,Agra-UPPCB   \n",
       "2             2      IN           Agra                Manoharpur,Agra-UPPCB   \n",
       "3             3      IN           Agra              SanjayPalace,Agra-UPPCB   \n",
       "4             4      IN      Ahmedabad               Rakhial,Ahmedabad-IITM   \n",
       "..          ...     ...            ...                                  ...   \n",
       "421         441      IN  Visakhapatnam                         GVMCRamNagar   \n",
       "422         442      IN  Visakhapatnam                       GVMCorporation   \n",
       "423         443      IN  Visakhapatnam                        Visakhapatnam   \n",
       "424         444      IN         Yadgir         CollectorOffice,Yadgir-KSPCB   \n",
       "425         445      IN    Yamunanagar         GobindPura,YamunaNagar-HSPCB   \n",
       "\n",
       "     Longitude   Latitude  \n",
       "0    91.288736  23.862828  \n",
       "1    77.962370  27.194120  \n",
       "2    78.019360  27.237110  \n",
       "3    78.005981  27.198658  \n",
       "4    72.625775  23.016834  \n",
       "..         ...        ...  \n",
       "421   0.000000   0.000000  \n",
       "422   0.000000   0.000000  \n",
       "423   0.000000   0.000000  \n",
       "424  77.142800  16.760200  \n",
       "425  77.289347  30.148057  \n",
       "\n",
       "[383 rows x 6 columns]"
      ]
     },
     "execution_count": 12,
     "metadata": {},
     "output_type": "execute_result"
    }
   ],
   "source": [
    "dummy"
   ]
  },
  {
   "cell_type": "code",
   "execution_count": 13,
   "metadata": {},
   "outputs": [],
   "source": [
    "locations.to_csv('/Users/preethamvignesh/Desktop/OpenAq_Data/India_Cities_locs_test.csv')"
   ]
  }
 ],
 "metadata": {
  "kernelspec": {
   "display_name": "Python 3",
   "language": "python",
   "name": "python3"
  },
  "language_info": {
   "codemirror_mode": {
    "name": "ipython",
    "version": 3
   },
   "file_extension": ".py",
   "mimetype": "text/x-python",
   "name": "python",
   "nbconvert_exporter": "python",
   "pygments_lexer": "ipython3",
   "version": "3.8.3"
  }
 },
 "nbformat": 4,
 "nbformat_minor": 4
}
